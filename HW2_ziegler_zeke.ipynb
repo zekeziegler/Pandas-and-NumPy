{
  "nbformat": 4,
  "nbformat_minor": 0,
  "metadata": {
    "colab": {
      "name": "HW2_ziegler_zeke.ipynb",
      "provenance": [],
      "collapsed_sections": []
    },
    "kernelspec": {
      "name": "python3",
      "display_name": "Python 3"
    }
  },
  "cells": [
    {
      "cell_type": "markdown",
      "metadata": {
        "id": "bNsIruOzI4iF"
      },
      "source": [
        "## **Homework 2**\n",
        "\n",
        "### Create a copy of the notebook to start answering the questions. Name your notebook in the format HW1_lastname_firstname.ipynb to facilitate the grading process. \n",
        "\n",
        "### Answer all the questions, test your code to ensure there are no errors and the results are as expected. Once you have answered all the questions, save the final copy, then go to File-> click on Download.ipynb. Once the local copy has been downloaded, submit your file on Blackboard under the corresponding assignment section. Also provide us a link to your notebook during submission. \n",
        "\n",
        "### **The due date of this homework is 02/12/2021 (Friday).**\n",
        "\n",
        "### Please ensure you follow all the steps mentioned in the homework.\n",
        "\n",
        "### All the questions have a sample input and output to help you understand the question.\n",
        "\n",
        "### You can submit your solutions any number of times until the deadline.\n"
      ]
    },
    {
      "cell_type": "markdown",
      "metadata": {
        "id": "U3Yz3s2uio1F"
      },
      "source": [
        "**Q1. Lets consider your data is like the below cell:**\n",
        "\n",
        "**Q1-1**: Write a program that create a dataframe from the data.\n",
        "\n",
        "**Q1-2:** Select people that are psychologist or teacher and their number of cars is greater than their family size.\n",
        "\n",
        "**Q1-3:** Select people who have at most 2 family members and at least 1 car.\n",
        "\n",
        "**Q1-4:** Write a code that get number of unique jobs in this dataset.\n",
        "\n",
        "\n",
        "\n"
      ]
    },
    {
      "cell_type": "code",
      "metadata": {
        "id": "yR8lcOtcjxXD"
      },
      "source": [
        "data = {\"name\": [\"Joseph\", \"Jacob\", \"Sam\", \"Jesee\", \"Ryan\", \"Lisa\", \"Lee\"],\n",
        "        \"job\": [\"teacher\", \"psychologist\", \"data scientist\", \"software developer\", \"psychologist\", \"psychologist\", \"teacher\"],\n",
        "        \"family_size\": [3, 2, 1, 4, 2, 3, 2],\n",
        "        \"num_cars\": [3, 1, 1, 2, 2, 4, 1]}"
      ],
      "execution_count": null,
      "outputs": []
    },
    {
      "cell_type": "code",
      "metadata": {
        "id": "U1kdNvtHa4h_"
      },
      "source": [
        "import pandas as pd\n",
        "import numpy as np"
      ],
      "execution_count": null,
      "outputs": []
    },
    {
      "cell_type": "code",
      "metadata": {
        "id": "Youi5qMaP34p",
        "colab": {
          "base_uri": "https://localhost:8080/"
        },
        "outputId": "c78613fd-c6e5-4769-8723-7f7875101a32"
      },
      "source": [
        "# Type your solution here\n",
        "\n",
        "# Q1-1\n",
        "d_frame = pd.DataFrame(data)\n",
        "\n",
        "# Q1-2\n",
        "options = [\"teacher\", \"psychologist\"]\n",
        "d_frame_alt1 = d_frame[d_frame[\"job\"].isin(options)]\n",
        "d_frame_alt2 = d_frame_alt1[d_frame_alt1[\"num_cars\"] > d_frame_alt1[\"family_size\"]]\n",
        "print(d_frame_alt2)\n",
        "print(\"\\n\")\n",
        "\n",
        "# Q1-3\n",
        "d_frame_alt3 = d_frame[d_frame[\"family_size\"] <= 2]\n",
        "d_frame_alt4 = d_frame_alt3[d_frame_alt3[\"num_cars\"] >= 1]\n",
        "print(d_frame_alt4)\n",
        "print(\"\\n\")\n",
        "\n",
        "# Q1-4\n",
        "unique_list = []\n",
        "for x in data[\"job\"]:\n",
        "  if x not in unique_list:\n",
        "    unique_list.append(x)\n",
        "len_list = len(unique_list)\n",
        "print(\"There are \" + str(len_list) + \" unique jobs in the dataset.\")\n"
      ],
      "execution_count": null,
      "outputs": [
        {
          "output_type": "stream",
          "text": [
            "   name           job  family_size  num_cars\n",
            "5  Lisa  psychologist            3         4\n",
            "\n",
            "\n",
            "    name             job  family_size  num_cars\n",
            "1  Jacob    psychologist            2         1\n",
            "2    Sam  data scientist            1         1\n",
            "4   Ryan    psychologist            2         2\n",
            "6    Lee         teacher            2         1\n",
            "\n",
            "\n",
            "There are 4 unique jobs in the dataset.\n"
          ],
          "name": "stdout"
        }
      ]
    },
    {
      "cell_type": "markdown",
      "metadata": {
        "id": "Ow6nG8k4l91X"
      },
      "source": [
        "**Q2. Lets consider you have two series like the below cell. Compute the mean of weights of each fruit.**"
      ]
    },
    {
      "cell_type": "code",
      "metadata": {
        "id": "u-X_DoOzVLLB"
      },
      "source": [
        "import numpy as np\n",
        "fruit = pd.Series(np.random.choice(['apple', 'banana', 'carrot'], 10))\n",
        "weights = pd.Series(np.linspace(1, 10, 10))"
      ],
      "execution_count": null,
      "outputs": []
    },
    {
      "cell_type": "code",
      "metadata": {
        "id": "S419nzYnpU__",
        "colab": {
          "base_uri": "https://localhost:8080/"
        },
        "outputId": "b2a53dc3-50a2-461e-acf0-4e1b55c638ef"
      },
      "source": [
        "# Type your solution here\n",
        "new_ser = pd.concat([fruit, weights], axis=1)\n",
        "new_ser.columns = [\"fruit\", \"weight\"]\n",
        "print(new_ser)\n",
        "\n",
        "bananas = 0\n",
        "apples = 0\n",
        "carrots = 0\n",
        "\n",
        "for j in fruit:\n",
        "  if j == \"apple\":\n",
        "    apples += 1\n",
        "  elif j == \"banana\":\n",
        "    bananas += 1\n",
        "  elif j == \"carrot\":\n",
        "    carrots += 1\n",
        "\n",
        "_index = new_ser.index\n",
        "a_con = new_ser[\"fruit\"] == \"apple\"\n",
        "b_con = new_ser[\"fruit\"] == \"banana\"\n",
        "c_con = new_ser[\"fruit\"] == \"carrot\"\n",
        "a_ind = _index[a_con]\n",
        "b_ind = _index[b_con]\n",
        "c_ind = _index[c_con]\n",
        "a_ind_list = a_ind.tolist()\n",
        "b_ind_list = b_ind.tolist()\n",
        "c_ind_list = c_ind.tolist()\n",
        "\n",
        "apple_mean = (sum(a_ind_list)+apples) / apples\n",
        "banana_mean = (sum(b_ind_list)+bananas) / bananas\n",
        "carrot_mean = (sum(c_ind_list)+carrots) / carrots\n",
        "\n",
        "print(\"The mean weight of apples is\", str(apple_mean))\n",
        "print(\"The mean weight of bananas is\", str(banana_mean))\n",
        "print(\"The mean weight of carrots is\", str(carrot_mean))\n",
        "\n"
      ],
      "execution_count": null,
      "outputs": [
        {
          "output_type": "stream",
          "text": [
            "    fruit  weight\n",
            "0  carrot     1.0\n",
            "1  carrot     2.0\n",
            "2  carrot     3.0\n",
            "3   apple     4.0\n",
            "4   apple     5.0\n",
            "5   apple     6.0\n",
            "6   apple     7.0\n",
            "7  carrot     8.0\n",
            "8   apple     9.0\n",
            "9  banana    10.0\n",
            "The mean weight of apples is 6.2\n",
            "The mean weight of bananas is 10.0\n",
            "The mean weight of carrots is 3.5\n"
          ],
          "name": "stdout"
        }
      ]
    },
    {
      "cell_type": "markdown",
      "metadata": {
        "id": "g4lKaPIhtVrt"
      },
      "source": [
        "**Q3. Consider the below course_name array:**\n",
        "\n",
        "**Q3-1**: Write a NumPy program to get the indices of the sorted elements of **course_name** array.\n",
        "\n",
        "**Q3-2:** Write numpy code to check whether each element of **course_name** array starts with \"P\".\n"
      ]
    },
    {
      "cell_type": "code",
      "metadata": {
        "id": "RUP_jp2KtVrx"
      },
      "source": [
        "import numpy as np\n",
        "course_name = np.array(['Python', 'JS', 'examples', 'PHP', 'html'])"
      ],
      "execution_count": null,
      "outputs": []
    },
    {
      "cell_type": "code",
      "metadata": {
        "id": "U1i27POxv-o_",
        "colab": {
          "base_uri": "https://localhost:8080/"
        },
        "outputId": "03445301-a1c6-4071-b492-bb9beabda084"
      },
      "source": [
        "# Type your solution here\n",
        "\n",
        "# Q3-1\n",
        "arr_sorted = np.argsort(course_name)\n",
        "print(arr_sorted)\n",
        "print(\"\\n\")\n",
        "\n",
        "# Q3-2\n",
        "p_start = np.char.startswith(course_name,\"P\")\n",
        "p_dframe = pd.DataFrame(p_start, columns=[\"Starts with \\\"P\\\"?\"])\n",
        "print(p_dframe)"
      ],
      "execution_count": null,
      "outputs": [
        {
          "output_type": "stream",
          "text": [
            "[1 3 0 2 4]\n",
            "\n",
            "\n",
            "   Starts with \"P\"?\n",
            "0              True\n",
            "1             False\n",
            "2             False\n",
            "3              True\n",
            "4             False\n"
          ],
          "name": "stdout"
        }
      ]
    },
    {
      "cell_type": "markdown",
      "metadata": {
        "id": "sUFItNFOxwkz"
      },
      "source": [
        "**Q4. Consider the below student_id array:**\n",
        "\n",
        "**Q4-1:** Reverse the **student_id** array. Print both original and reversed array.\n",
        "\n",
        "**Q4-2:** Get the 3-largest values of **student_id** array."
      ]
    },
    {
      "cell_type": "code",
      "metadata": {
        "id": "Rl5qzEjFv0nw"
      },
      "source": [
        "import numpy as np\n",
        "student_id = np.array([1023, 5202, 6230, 1671, 1682, 5241, 4532])"
      ],
      "execution_count": null,
      "outputs": []
    },
    {
      "cell_type": "code",
      "metadata": {
        "id": "EetvHGrUxMCC",
        "colab": {
          "base_uri": "https://localhost:8080/"
        },
        "outputId": "99209893-5f8d-4322-92ec-093020fd60a6"
      },
      "source": [
        "# Type your solution here\n",
        "\n",
        "# Q4-1\n",
        "array_flip = np.flip(student_id)\n",
        "print(\"Student_ID:\")\n",
        "print(student_id)\n",
        "print(\"Student_ID Reversed:\")\n",
        "print(array_flip)\n",
        "print(\"\\n\")\n",
        "\n",
        "# Q4-2\n",
        "sorted_ind = np.argsort(student_id)\n",
        "sorted_arr = student_id[sorted_ind]\n",
        "p = 3\n",
        "_values = sorted_arr[-p:]\n",
        "print(\"3 largest values of Student_ID:\")\n",
        "print(_values)\n"
      ],
      "execution_count": null,
      "outputs": [
        {
          "output_type": "stream",
          "text": [
            "Student_ID:\n",
            "[1023 5202 6230 1671 1682 5241 4532]\n",
            "Student_ID Reversed:\n",
            "[4532 5241 1682 1671 6230 5202 1023]\n",
            "\n",
            "\n",
            "3 largest values of Student_ID:\n",
            "[5202 5241 6230]\n"
          ],
          "name": "stdout"
        }
      ]
    },
    {
      "cell_type": "markdown",
      "metadata": {
        "id": "uKRyDVuW6B19"
      },
      "source": [
        "**Q5: Write a numpy program to print sum of all the multiples of 3 or 5 below 100**"
      ]
    },
    {
      "cell_type": "code",
      "metadata": {
        "id": "ZIixq1gz6OK3",
        "colab": {
          "base_uri": "https://localhost:8080/"
        },
        "outputId": "06ecd74f-f6ff-4f30-98cf-28f787ae0926"
      },
      "source": [
        "# Type your solution here\n",
        "\n",
        "# Hint: you can use arange to start off\n",
        "num_arr3 = np.arange(3,100,3)\n",
        "num_arr5 = np.arange(5,100,5)\n",
        "con_np = np.concatenate((num_arr3,num_arr5))\n",
        "con_np_uni = np.unique(con_np)\n",
        "sum_np = np.sum(con_np_uni)\n",
        "print(\"The sum of all multiples of 3 or 5 below 100 equals\", str(sum_np))\n"
      ],
      "execution_count": null,
      "outputs": [
        {
          "output_type": "stream",
          "text": [
            "The sum of all multiples of 3 or 5 below 100 equals 2318\n"
          ],
          "name": "stdout"
        }
      ]
    },
    {
      "cell_type": "markdown",
      "metadata": {
        "id": "2CWJOsP24c34"
      },
      "source": [
        "**Q6. Consider the below array.**\n",
        "\n",
        "Q6.1. Write a code to swap column 1 with column 2.\n",
        "\n",
        "Q6.2. Write a code to swap row 0 with row 1."
      ]
    },
    {
      "cell_type": "code",
      "metadata": {
        "id": "3OG6X5Eg5KSM",
        "colab": {
          "base_uri": "https://localhost:8080/"
        },
        "outputId": "8f982684-097e-454c-b681-6987df32137c"
      },
      "source": [
        "import numpy as np\n",
        "\n",
        "arr = np.arange(12).reshape(3,4)\n",
        "print(arr)"
      ],
      "execution_count": null,
      "outputs": [
        {
          "output_type": "stream",
          "text": [
            "[[ 0  1  2  3]\n",
            " [ 4  5  6  7]\n",
            " [ 8  9 10 11]]\n"
          ],
          "name": "stdout"
        }
      ]
    },
    {
      "cell_type": "code",
      "metadata": {
        "id": "Q-Q91DpO5YYW",
        "colab": {
          "base_uri": "https://localhost:8080/"
        },
        "outputId": "519cb724-eb17-4c0c-aae7-f6bac3f5932a"
      },
      "source": [
        "# Type your solution here\n",
        "\n",
        "# Q6-1\n",
        "# I put the creation of the array in this part of the code \n",
        "# so columns 1 and 2 don't continue to swap every time the code runs\n",
        "print(\"Original array:\")\n",
        "arr = np.arange(12).reshape(3,4)\n",
        "print(arr)\n",
        "\n",
        "arr_col = arr\n",
        "arr_col[:, [1,2]] = arr[:, [2,1]]\n",
        "print(\"Column 1 and Column 2 swapped:\")\n",
        "print(arr_col)\n",
        "\n",
        "# Q6-2\n",
        "arr_row = arr\n",
        "arr_row[[0,1]] = arr[[1,0]]\n",
        "print(\"Row 0 and Row 1 swapped:\")\n",
        "print(arr_row)"
      ],
      "execution_count": null,
      "outputs": [
        {
          "output_type": "stream",
          "text": [
            "Original array:\n",
            "[[ 0  1  2  3]\n",
            " [ 4  5  6  7]\n",
            " [ 8  9 10 11]]\n",
            "Column 1 and Column 2 swapped:\n",
            "[[ 0  2  1  3]\n",
            " [ 4  6  5  7]\n",
            " [ 8 10  9 11]]\n",
            "Row 0 and Row 1 swapped:\n",
            "[[ 4  6  5  7]\n",
            " [ 0  2  1  3]\n",
            " [ 8 10  9 11]]\n"
          ],
          "name": "stdout"
        }
      ]
    }
  ]
}